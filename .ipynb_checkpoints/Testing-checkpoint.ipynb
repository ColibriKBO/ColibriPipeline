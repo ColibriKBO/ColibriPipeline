{
 "cells": [
  {
   "cell_type": "code",
   "execution_count": 1,
   "id": "307d3006",
   "metadata": {},
   "outputs": [],
   "source": [
    "import colibri_image_reader as cir\n",
    "import colibri_photometry as cp\n",
    "\n",
    "import pathlib\n",
    "import numpy as np\n",
    "\n",
    "import timeit"
   ]
  },
  {
   "cell_type": "code",
   "execution_count": 3,
   "id": "63491dbc",
   "metadata": {},
   "outputs": [],
   "source": [
    "imgdir = pathlib.Path(\"/home/pquigley/ColibriRepos/ColibriData/20220812/20220812_03.45.50.098/\")\n",
    "savdir = pathlib.Path(\"/home/pquigley/ColibriRepos/ColibriArchive/\")\n",
    "img_stack = cir.stackImages(imgdir,savdir,\n",
    "                           1,9,np.zeros((2048,2048)))\n",
    "\n",
    "ap_r = 3\n",
    "edge_buffer = 1\n",
    "find_stars  = tuple(cp.initialFind(img_stack,4.0))\n",
    "stars = tuple(x for x in find_stars if x[0] + ap_r + edge_buffer < 2048 and x[0] - ap_r - edge_buffer > 0)\n",
    "tstars = tuple(y for y in find_stars if y[0] + ap_r + edge_buffer < 2048 and y[0] - ap_r - edge_buffer > 0)\n",
    "lstars = tstars.tolist()\n",
    "\n",
    "cir.fluxFromBits(\"/home/pquigley/ColibriRepos/ColibriData/20220812/20220812_03.45.50.098/field1_25ms-E_0002074.rcd\",list)\n"
   ]
  }
 ],
 "metadata": {
  "kernelspec": {
   "display_name": "Python 3 (ipykernel)",
   "language": "python",
   "name": "python3"
  },
  "language_info": {
   "codemirror_mode": {
    "name": "ipython",
    "version": 3
   },
   "file_extension": ".py",
   "mimetype": "text/x-python",
   "name": "python",
   "nbconvert_exporter": "python",
   "pygments_lexer": "ipython3",
   "version": "3.9.12"
  }
 },
 "nbformat": 4,
 "nbformat_minor": 5
}
